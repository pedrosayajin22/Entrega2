{
 "cells": [
  {
   "cell_type": "code",
   "execution_count": 1,
   "metadata": {},
   "outputs": [],
   "source": [
    "url = 'https://raw.githubusercontent.com/chiarorosa/ia_aprendizado_maquina_basico/main/ml-dataset/kaggle-basico/diabetes.csv'\n",
    "\n",
    "import pandas as pd\n",
    "from sklearn.model_selection import train_test_split\n",
    "from sklearn.metrics import accuracy_score # Avaliação de Acurácia\n",
    "from sklearn.preprocessing import StandardScaler\n",
    "from sklearn.linear_model import SGDClassifier\n",
    "from sklearn.model_selection import GridSearchCV\n",
    "import numpy as np\n",
    "\n",
    "\n"
   ]
  },
  {
   "cell_type": "code",
   "execution_count": 2,
   "metadata": {},
   "outputs": [],
   "source": [
    "df = pd.read_csv(url)\n",
    "df.head()\n",
    "X = df.drop('Outcome', axis=1)\n",
    "y = df['Outcome']\n",
    "\n"
   ]
  },
  {
   "cell_type": "code",
   "execution_count": 3,
   "metadata": {},
   "outputs": [
    {
     "name": "stdout",
     "output_type": "stream",
     "text": [
      "Tamanho do DataFrame após a remoção dos outliers: 993\n"
     ]
    }
   ],
   "source": [
    "\n",
    "\n",
    "# Dados de exemplo\n",
    "df = np.random.normal(loc=0, scale=1, size=1000)\n",
    "\n",
    "# Criar DataFrame\n",
    "df = pd.DataFrame(df, columns=['Value'])\n",
    "\n",
    "# Calcular quartis\n",
    "q1 = df['Value'].quantile(0.25)\n",
    "q3 = df['Value'].quantile(0.75)\n",
    "\n",
    "# Calcular IQR\n",
    "iqr = q3 - q1\n",
    "\n",
    "# Definir limites para outliers\n",
    "lower_bound = q1 - 1.5 * iqr\n",
    "upper_bound = q3 + 1.5 * iqr\n",
    "\n",
    "# Remover outliers\n",
    "df_clean = df[~((df < lower_bound) | (df > upper_bound)).any(axis=1)]\n",
    "\n",
    "# Verificar o tamanho do DataFrame após a remoção dos outliers\n",
    "print(\"Tamanho do DataFrame após a remoção dos outliers:\", df_clean.shape[0])\n"
   ]
  },
  {
   "cell_type": "code",
   "execution_count": 4,
   "metadata": {},
   "outputs": [],
   "source": [
    "\n",
    "scaler = StandardScaler()\n",
    "x_scaled = scaler.fit_transform(X)\n",
    "\n",
    "\n",
    "# Dividir em dois conjuntos, treinamento e teste, usando pareto 80/20\n",
    "X_train, X_test, y_train, y_test = train_test_split(\n",
    "    x_scaled,\n",
    "    y,\n",
    "    test_size=0.2, # pareto\n",
    "    random_state=42 # reproduzivel\n",
    ")"
   ]
  },
  {
   "cell_type": "code",
   "execution_count": 5,
   "metadata": {},
   "outputs": [],
   "source": [
    "\n",
    "\n",
    "grade = {\n",
    "    'loss': ['hinge', 'log', 'modified_huber', 'squared_hinge', 'perceptron', 'squared_loss', 'huber', 'epsilon_insensitive', 'squared_epsilon_insensitive'],\n",
    "    'alpha': np.linspace(0.0001, 0.001, 100),\n",
    "    'fit_intercept': [True, False],\n",
    "    'max_iter': np.arange(1000, 10000, 100),\n",
    "    'learning_rate': ['constant', 'optimal', 'invscaling', 'adaptive'],\n",
    "    'eta0': np.logspace(-4, 0, 5),  # Taxa de aprendizado inicial\n",
    "    'power_t': np.linspace(0.1, 1, 10),  # Exponente para taxa de aprendizado inverso\n",
    "    'epsilon': np.linspace(0.1, 1, 10),  # Relevante para algumas funções de perda\n",
    "}\n",
    "\n",
    "SGD = GridSearchCV(\n",
    " estimator=SGDClassifier(),\n",
    "    param_grid=grade,\n",
    "    cv=5,\n",
    "    scoring='accuracy',\n",
    "    n_jobs=-1\n",
    ")\n",
    "\n",
    "SGD.fit(X_train, y_train)\n",
    "\n",
    "melhor = SGD.best_estimator_\n",
    "\n",
    "y_pred = melhor.predict(X_test)\n",
    "\n",
    "acuracia = accuracy_score(y_test, y_pred)\n",
    "\n",
    "print(f'Acurácia: {acuracia * 100:.2f}')\n",
    "print(f'Melhor modelo: {melhor}')\n",
    "print(f'Parâmetros do melhor modelo: {SGD.best_params_}')\n",
    "\n",
    "guardaAcc = 0\n",
    "\n",
    "with open('Melhor Acurracia SGD.txt', 'r+', encoding='utf-8') as f:\n",
    "        try:\n",
    "            linha = f.readline().strip()\n",
    "            if linha.startswith('Acurácia:'):\n",
    "                guardaAcc = float(linha.split(': ')[1]) / 100\n",
    "                print(f'Acurácia anterior: {guardaAcc * 100:.2f}')\n",
    "                if acuracia > guardaAcc:\n",
    "                    f.seek(0) # vai pro inicio\n",
    "                    f.write(f'Acurácia: {acuracia * 100:.2f} \\n')\n",
    "                    \n",
    "                    f.truncate() #  remove residuos antigos\n",
    "                    print(f'Acurácia atualizada: {acuracia * 100:.2f}')\n",
    "                else:\n",
    "                    print('Acurácia não atualizada')\n",
    "        except Exception as e:\n",
    "            print(f\"Erro ao ler o arquivo: {e}\")\n",
    "       \n"
   ]
  },
  {
   "cell_type": "code",
   "execution_count": null,
   "metadata": {},
   "outputs": [],
   "source": [
    "\n"
   ]
  }
 ],
 "metadata": {
  "kernelspec": {
   "display_name": "Python 3",
   "language": "python",
   "name": "python3"
  },
  "language_info": {
   "codemirror_mode": {
    "name": "ipython",
    "version": 3
   },
   "file_extension": ".py",
   "mimetype": "text/x-python",
   "name": "python",
   "nbconvert_exporter": "python",
   "pygments_lexer": "ipython3",
   "version": "3.11.5"
  }
 },
 "nbformat": 4,
 "nbformat_minor": 2
}
