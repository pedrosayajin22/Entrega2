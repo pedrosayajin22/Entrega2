{
 "cells": [
  {
   "cell_type": "code",
   "execution_count": 1,
   "metadata": {},
   "outputs": [],
   "source": [
    "url = \"https://raw.githubusercontent.com/chiarorosa/ia_aprendizado_maquina_basico/main/ml-dataset/kaggle-basico/attrition_Rate_Company.csv\"\n",
    "\n",
    "import pandas as pd\n",
    "from sklearn.model_selection import train_test_split\n",
    "from sklearn.metrics import accuracy_score # Avaliação de Acurácia\n",
    "from sklearn.preprocessing import StandardScaler,LabelEncoder\n",
    "from sklearn.neighbors import KNeighborsClassifier\n",
    "from sklearn.model_selection import RandomizedSearchCV\n",
    "import numpy as np\n"
   ]
  },
  {
   "cell_type": "code",
   "execution_count": 2,
   "metadata": {},
   "outputs": [],
   "source": [
    "df = pd.read_csv(url)\n",
    "df.head()\n",
    "\n",
    "df.dropna(inplace=True)\n",
    "\n",
    "labelEnconder = LabelEncoder()\n",
    "categorizacaoColunas = ['BusinessTravel', 'EducationField', 'Department', 'Gender', 'JobRole', 'MaritalStatus','Attrition','Over18']\n",
    "\n",
    "for coluna in categorizacaoColunas:\n",
    "    df[coluna] = labelEnconder.fit_transform(df[coluna])\n",
    "    \n",
    "X = df.drop('Attrition', axis=1)\n",
    "y = df['Attrition']\n",
    "\n",
    "\n",
    "\n",
    "\n",
    "\n"
   ]
  },
  {
   "cell_type": "code",
   "execution_count": 3,
   "metadata": {},
   "outputs": [],
   "source": [
    "scaler = StandardScaler()\n",
    "x_scaled = scaler.fit_transform(X)\n",
    "\n",
    "\n",
    "# Dividir em dois conjuntos, treinamento e teste, usando pareto 80/20\n",
    "X_train, X_test, y_train, y_test = train_test_split(\n",
    "    x_scaled,\n",
    "    y,\n",
    "    test_size=0.2, # pareto\n",
    "    random_state=42 # reproduzivel\n",
    ")"
   ]
  },
  {
   "cell_type": "code",
   "execution_count": 15,
   "metadata": {},
   "outputs": [
    {
     "name": "stdout",
     "output_type": "stream",
     "text": [
      "Acurácia: 97.44\n",
      "Melhor modelo: KNeighborsClassifier(algorithm='brute', leaf_size=37, metric='euclidean',\n",
      "                     n_neighbors=3, p=1, weights='distance')\n",
      "Parâmetros do melhor modelo: {'weights': 'distance', 'p': 1, 'n_neighbors': 3, 'metric': 'euclidean', 'leaf_size': 37, 'algorithm': 'brute'}\n",
      "Acurácia anterior: 99.30\n",
      "Acurácia não atualizada\n"
     ]
    }
   ],
   "source": [
    "grade = {\n",
    "    'n_neighbors': range(1, 50),\n",
    "    'weights': ['uniform', 'distance'],\n",
    "    'algorithm': ['auto', 'ball_tree', 'kd_tree', 'brute'],\n",
    "    'p':[1,2],\n",
    "    'leaf_size': range(1, 50),\n",
    "    'metric': ['euclidean', 'manhattan', 'chebyshev', 'minkowski']\n",
    "}\n",
    "knm = RandomizedSearchCV(\n",
    "    KNeighborsClassifier(),\n",
    "    grade,\n",
    "    cv=15,\n",
    "    scoring='accuracy',\n",
    ")\n",
    "\n",
    "knm.fit(X_train, y_train)\n",
    "\n",
    "melhor = knm.best_estimator_\n",
    "\n",
    "y_pred = melhor.predict(X_test)\n",
    "\n",
    "acuracia = accuracy_score(y_test, y_pred)\n",
    "\n",
    "print(f'Acurácia: {acuracia * 100:.2f}')\n",
    "print(f'Melhor modelo: {melhor}')\n",
    "print(f'Parâmetros do melhor modelo: {knm.best_params_}')\n",
    "\n",
    "guardaAcc = 0\n",
    "with open('Melhor Acurracia KNeighbors.txt', 'r+', encoding='utf-8') as f:\n",
    "        try:\n",
    "            linha = f.readline().strip()\n",
    "            if linha.startswith('Acurácia:'):\n",
    "                guardaAcc = float(linha.split(': ')[1]) / 100\n",
    "                print(f'Acurácia anterior: {guardaAcc * 100:.2f}')\n",
    "                if acuracia > guardaAcc:\n",
    "                    f.seek(0) \n",
    "                    f.write(f'Acurácia: {acuracia * 100:.2f} \\n')\n",
    "                    \n",
    "                    f.truncate() \n",
    "                    print(f'Acurácia atualizada: {acuracia * 100:.2f}')\n",
    "                else:\n",
    "                    print('Acurácia não atualizada')\n",
    "        except Exception as e:\n",
    "            print(f\"Erro ao ler o arquivo: {e}\")\n",
    "       \n"
   ]
  }
 ],
 "metadata": {
  "kernelspec": {
   "display_name": "Python 3",
   "language": "python",
   "name": "python3"
  },
  "language_info": {
   "codemirror_mode": {
    "name": "ipython",
    "version": 3
   },
   "file_extension": ".py",
   "mimetype": "text/x-python",
   "name": "python",
   "nbconvert_exporter": "python",
   "pygments_lexer": "ipython3",
   "version": "3.11.5"
  }
 },
 "nbformat": 4,
 "nbformat_minor": 2
}
