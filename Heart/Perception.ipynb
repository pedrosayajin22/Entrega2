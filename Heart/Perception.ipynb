{
 "cells": [
  {
   "cell_type": "code",
   "execution_count": 3,
   "metadata": {},
   "outputs": [],
   "source": [
    "url = \"https://raw.githubusercontent.com/chiarorosa/ia_aprendizado_maquina_basico/main/ml-dataset/kaggle-basico/heart_Disease.csv\"\n",
    "\n",
    "import pandas as pd\n",
    "from sklearn.model_selection import train_test_split\n",
    "from sklearn.metrics import accuracy_score # Avaliação de Acurácia\n",
    "from sklearn.preprocessing import StandardScaler\n",
    "from sklearn.linear_model import Perceptron\n",
    "from sklearn.model_selection import RandomizedSearchCV\n",
    "import numpy as np\n"
   ]
  },
  {
   "cell_type": "code",
   "execution_count": 4,
   "metadata": {},
   "outputs": [],
   "source": [
    "df = pd.read_csv(url)\n",
    "df.head()\n",
    "X = df.drop('target', axis=1)\n",
    "y = df['target']\n",
    "scaler = StandardScaler()\n",
    "x_scaled = scaler.fit_transform(X)\n",
    "\n",
    "\n",
    "# Dividir em dois conjuntos, treinamento e teste, usando pareto 80/20\n",
    "X_train, X_test, y_train, y_test = train_test_split(\n",
    "    x_scaled,\n",
    "    y,\n",
    "    test_size=0.2, # pareto\n",
    "    random_state=42 # reproduzivel\n",
    ")"
   ]
  },
  {
   "cell_type": "code",
   "execution_count": 20,
   "metadata": {},
   "outputs": [
    {
     "name": "stdout",
     "output_type": "stream",
     "text": [
      "Acurácia: 78.69\n",
      "Melhor modelo: Perceptron(alpha=0.0008363636363636364, fit_intercept=False, max_iter=2400,\n",
      "           random_state=42, tol=1e-05)\n",
      "Parâmetros do melhor modelo: {'tol': 1e-05, 'random_state': 42, 'max_iter': 2400, 'fit_intercept': False, 'alpha': 0.0008363636363636364}\n",
      "Acurácia anterior: 78.69\n",
      "Acurácia não atualizada\n"
     ]
    }
   ],
   "source": [
    "grade = {\n",
    "    'alpha': np.linspace(0.0001, 0.001, 100),\n",
    "    'fit_intercept': [True, False],\n",
    "    'max_iter': np.arange(1000, 10000, 100),\n",
    "    'tol': np.logspace(-6, -1, 6),  # Tolerância para critério de parada\n",
    "    'random_state': [42]  # Para reprodutibilidade\n",
    "}\n",
    "\n",
    "Perception = RandomizedSearchCV(\n",
    "    Perceptron(),\n",
    "    grade,\n",
    "    cv=5,\n",
    "    scoring='accuracy',\n",
    "    n_iter=20,  # Número de iterações de busca aleatória\n",
    "    n_jobs=-1,  # Use todos os núcleos disponíveis\n",
    ")\n",
    "\n",
    "Perception.fit(X_train, y_train)\n",
    "\n",
    "melhor = Perception.best_estimator_\n",
    "\n",
    "y_pred = melhor.predict(X_test)\n",
    "\n",
    "acuracia = accuracy_score(y_test, y_pred)\n",
    "\n",
    "print(f'Acurácia: {acuracia * 100:.2f}')\n",
    "print(f'Melhor modelo: {melhor}')\n",
    "print(f'Parâmetros do melhor modelo: {Perception.best_params_}')\n",
    "\n",
    "guardaAcc = 0\n",
    "\n",
    "with open('Melhor Acurracia Perception.txt', 'r+', encoding='utf-8') as f:\n",
    "        try:\n",
    "            linha = f.readline().strip()\n",
    "            if linha.startswith('Acurácia:'):\n",
    "                guardaAcc = float(linha.split(': ')[1]) / 100\n",
    "                print(f'Acurácia anterior: {guardaAcc * 100:.2f}')\n",
    "                if acuracia > guardaAcc:\n",
    "                    f.seek(0) # vai pro inicio\n",
    "                    f.write(f'Acurácia: {acuracia * 100:.2f} \\n')\n",
    "                    \n",
    "                    f.truncate() #  remove residuos antigos\n",
    "                    print(f'Acurácia atualizada: {acuracia * 100:.2f}')\n",
    "                else:\n",
    "                    print('Acurácia não atualizada')\n",
    "        except Exception as e:\n",
    "            print(f\"Erro ao ler o arquivo: {e}\")\n",
    "       \n"
   ]
  }
 ],
 "metadata": {
  "kernelspec": {
   "display_name": "Python 3",
   "language": "python",
   "name": "python3"
  },
  "language_info": {
   "codemirror_mode": {
    "name": "ipython",
    "version": 3
   },
   "file_extension": ".py",
   "mimetype": "text/x-python",
   "name": "python",
   "nbconvert_exporter": "python",
   "pygments_lexer": "ipython3",
   "version": "3.11.5"
  }
 },
 "nbformat": 4,
 "nbformat_minor": 2
}
